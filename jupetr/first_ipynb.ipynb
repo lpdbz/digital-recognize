{
 "cells": [
  {
   "cell_type": "code",
   "execution_count": 12,
   "id": "44f2edbe",
   "metadata": {},
   "outputs": [
    {
     "ename": "SyntaxError",
     "evalue": "invalid character '：' (U+FF1A) (3853940542.py, line 3)",
     "output_type": "error",
     "traceback": [
      "\u001b[1;36m  Cell \u001b[1;32mIn[12], line 3\u001b[1;36m\u001b[0m\n\u001b[1;33m    运行且在下面添加新的代码块：shift+enter键\u001b[0m\n\u001b[1;37m                 ^\u001b[0m\n\u001b[1;31mSyntaxError\u001b[0m\u001b[1;31m:\u001b[0m invalid character '：' (U+FF1A)\n"
     ]
    }
   ],
   "source": [
    "## 命令模式，esc键\n",
    "## 编辑模式，enter键\n",
    "运行且在下面添加新的代码块：shift+enter键\n",
    "运行不想进入新的代码块：ctrl+enter\n",
    "在命令模式下，按两下d，删除代码块;a向上添加代码块；b向下添加代码块；m是markdown；y是代码模式。\n"
   ]
  },
  {
   "cell_type": "markdown",
   "id": "4cb0c632",
   "metadata": {},
   "source": [
    "# 编辑\n"
   ]
  },
  {
   "cell_type": "code",
   "execution_count": 2,
   "id": "26c05c7a",
   "metadata": {},
   "outputs": [
    {
     "name": "stdout",
     "output_type": "stream",
     "text": [
      "hello world!\n"
     ]
    }
   ],
   "source": [
    "print(\"hello world!\")"
   ]
  },
  {
   "cell_type": "code",
   "execution_count": 15,
   "id": "958cbcb5",
   "metadata": {},
   "outputs": [
    {
     "data": {
      "text/plain": [
       "3"
      ]
     },
     "execution_count": 15,
     "metadata": {},
     "output_type": "execute_result"
    }
   ],
   "source": [
    "1+2"
   ]
  },
  {
   "cell_type": "code",
   "execution_count": 11,
   "id": "c8ca24ac",
   "metadata": {},
   "outputs": [
    {
     "data": {
      "text/plain": [
       "5050"
      ]
     },
     "execution_count": 11,
     "metadata": {},
     "output_type": "execute_result"
    }
   ],
   "source": [
    "sum(range(101))"
   ]
  },
  {
   "cell_type": "markdown",
   "id": "21202142",
   "metadata": {},
   "source": [
    "超链接必须在markdown语法下，符号是英文的。\n",
    "[python](https://www.baidu.com/)\n",
    "如果是图片，前面需要添加一个感叹号！"
   ]
  },
  {
   "cell_type": "markdown",
   "id": "c2f707b7",
   "metadata": {},
   "source": [
    "- 第一点\n",
    "- 第二点"
   ]
  },
  {
   "cell_type": "markdown",
   "id": "e6ec97db",
   "metadata": {},
   "source": [
    "1.第一\n",
    "1.第二\n",
    "\n"
   ]
  },
  {
   "cell_type": "markdown",
   "id": "540a55ca",
   "metadata": {},
   "source": [
    "$$z=x+y$$\n",
    "$$\\frac{2}{3}$$"
   ]
  },
  {
   "cell_type": "markdown",
   "id": "0ac683f3",
   "metadata": {},
   "source": [
    "```pytrhon\n",
    "if __name__==\"__main__\"\n",
    "```"
   ]
  },
  {
   "cell_type": "markdown",
   "id": "0023d85b",
   "metadata": {},
   "source": [
    "# 一级标题\n",
    "## 二级标题\n",
    "**加粗**\n",
    "*斜体*"
   ]
  },
  {
   "cell_type": "code",
   "execution_count": 3,
   "id": "ab5c88a8",
   "metadata": {},
   "outputs": [
    {
     "data": {
      "text/plain": [
       "3"
      ]
     },
     "execution_count": 3,
     "metadata": {},
     "output_type": "execute_result"
    }
   ],
   "source": [
    "1+2"
   ]
  },
  {
   "cell_type": "code",
   "execution_count": null,
   "id": "0a03b9c1",
   "metadata": {},
   "outputs": [],
   "source": []
  }
 ],
 "metadata": {
  "kernelspec": {
   "display_name": "Python 3 (ipykernel)",
   "language": "python",
   "name": "python3"
  },
  "language_info": {
   "codemirror_mode": {
    "name": "ipython",
    "version": 3
   },
   "file_extension": ".py",
   "mimetype": "text/x-python",
   "name": "python",
   "nbconvert_exporter": "python",
   "pygments_lexer": "ipython3",
   "version": "3.11.5"
  }
 },
 "nbformat": 4,
 "nbformat_minor": 5
}
